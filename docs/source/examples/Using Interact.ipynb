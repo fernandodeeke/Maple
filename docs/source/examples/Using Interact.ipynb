{
  "cells": [
    {
      "cell_type": "markdown",
      "metadata": {
        "id": "8nvo36uTUcu-"
      },
      "source": [
        "# Using Interact"
      ]
    },
    {
      "cell_type": "markdown",
      "metadata": {
        "id": "YdwUjEW-Ucu_"
      },
      "source": [
        "The `interact` function (`ipywidgets.interact`) automatically creates user interface (UI) controls for exploring code and data interactively. It is the easiest way to get started using IPython's widgets."
      ]
    },
    {
      "cell_type": "code",
      "execution_count": 5,
      "metadata": {
        "tags": [
          "remove-cell"
        ],
        "id": "HU6u5uOTUcu_"
      },
      "outputs": [],
      "source": [
        "# Imports for JupyterLite\n",
        "%pip install -q ipywidgets"
      ]
    },
    {
      "cell_type": "code",
      "execution_count": 6,
      "metadata": {
        "id": "6ZX8reeFUcu_"
      },
      "outputs": [],
      "source": [
        "from ipywidgets import interact, interactive, fixed, interact_manual\n",
        "import ipywidgets as widgets"
      ]
    },
    {
      "cell_type": "markdown",
      "metadata": {
        "id": "vouyEkmXUcvA"
      },
      "source": [
        "## Basic `interact`"
      ]
    },
    {
      "cell_type": "markdown",
      "metadata": {
        "id": "U9IMRz9sUcvA"
      },
      "source": [
        "At the most basic level, `interact` autogenerates UI controls for function arguments, and then calls the function with those arguments when you manipulate the controls interactively. To use `interact`, you need to define a function that you want to explore. Here is a function that returns its only argument `x`."
      ]
    },
    {
      "cell_type": "code",
      "execution_count": 7,
      "metadata": {
        "id": "HDSsYvsXUcvA"
      },
      "outputs": [],
      "source": [
        "def f(x):\n",
        "    return x"
      ]
    },
    {
      "cell_type": "markdown",
      "metadata": {
        "id": "VgGnLhTXUcvA"
      },
      "source": [
        "When you pass this function as the first argument to `interact` along with an integer keyword argument (`x=10`), a slider is generated and bound to the function parameter."
      ]
    },
    {
      "cell_type": "code",
      "execution_count": 8,
      "metadata": {
        "id": "ZSaYjyOxUcvA",
        "outputId": "156a5b6e-07ea-4aab-bfdd-0796f600403b",
        "colab": {
          "base_uri": "https://localhost:8080/",
          "height": 66,
          "referenced_widgets": [
            "2e30b1e7ce604eeabda4ceeb7c6b1f25",
            "42f09f1907604c57b777f3e8ef3dab53",
            "10c398819a604697beb5881e64bd3bd4",
            "e889f65676204e6bad5c47286fccc451",
            "3a1148613e66446893ea90f2221136e3",
            "eec3763df60e4534a280ed7c7c3d0e42",
            "208fc3b040aa46c3b955b540480bc654"
          ]
        }
      },
      "outputs": [
        {
          "output_type": "display_data",
          "data": {
            "text/plain": [
              "interactive(children=(IntSlider(value=10, description='x', max=30, min=-10), Output()), _dom_classes=('widget-…"
            ],
            "application/vnd.jupyter.widget-view+json": {
              "version_major": 2,
              "version_minor": 0,
              "model_id": "2e30b1e7ce604eeabda4ceeb7c6b1f25"
            }
          },
          "metadata": {}
        }
      ],
      "source": [
        "interact(f, x=10);"
      ]
    },
    {
      "cell_type": "markdown",
      "metadata": {
        "id": "-V9i8u3xUcvA"
      },
      "source": [
        "When you move the slider, the function is called, and its return value is printed.\n",
        "\n",
        "If you pass `True` or `False`, `interact` will generate a checkbox:"
      ]
    },
    {
      "cell_type": "code",
      "execution_count": 9,
      "metadata": {
        "id": "KwyUY064UcvB",
        "outputId": "8c3cb1e8-9fa2-463c-e774-962b96226a3d",
        "colab": {
          "base_uri": "https://localhost:8080/",
          "height": 66,
          "referenced_widgets": [
            "0bd6666cd9bb441aad56afc589ffd176",
            "7352ded1ab7941478d0ddab880fd5bbd",
            "561f079a97504781b1876c125d7c02fd",
            "06a993a791a44dc084299abbfec13b0b",
            "f49ba990afcb4c9681aa21566e97ccc8",
            "aecbfae6ad984f4fbded37b759390bbd",
            "6a179d0a0b884c6f8f6314a6407a6608"
          ]
        }
      },
      "outputs": [
        {
          "output_type": "display_data",
          "data": {
            "text/plain": [
              "interactive(children=(Checkbox(value=True, description='x'), Output()), _dom_classes=('widget-interact',))"
            ],
            "application/vnd.jupyter.widget-view+json": {
              "version_major": 2,
              "version_minor": 0,
              "model_id": "0bd6666cd9bb441aad56afc589ffd176"
            }
          },
          "metadata": {}
        }
      ],
      "source": [
        "interact(f, x=True);"
      ]
    },
    {
      "cell_type": "markdown",
      "metadata": {
        "id": "FhVAEAtJUcvB"
      },
      "source": [
        "If you pass a string, `interact` will generate a text box."
      ]
    },
    {
      "cell_type": "code",
      "execution_count": 10,
      "metadata": {
        "id": "hBO45YIfUcvB",
        "outputId": "5aa791d5-282a-420d-9c64-8b04ea1e894d",
        "colab": {
          "base_uri": "https://localhost:8080/",
          "height": 67,
          "referenced_widgets": [
            "be1904e073e442be9c59f1edabc75334",
            "76fbdbf3c99941078b56999f6329f6d7",
            "28fda8a3ee7a431b9877bb7771cea821",
            "66ca9a6e85d84401a1fd1953d5f1f009",
            "6177e9531cd64fe0870f35bc5fd957f5",
            "0d13858517ee49dfb87f12e85e101f0e",
            "be44f0c2a3f74b79bf0deccfd54ec8a6"
          ]
        }
      },
      "outputs": [
        {
          "output_type": "display_data",
          "data": {
            "text/plain": [
              "interactive(children=(Text(value='Hi there!', description='x'), Output()), _dom_classes=('widget-interact',))"
            ],
            "application/vnd.jupyter.widget-view+json": {
              "version_major": 2,
              "version_minor": 0,
              "model_id": "be1904e073e442be9c59f1edabc75334"
            }
          },
          "metadata": {}
        }
      ],
      "source": [
        "interact(f, x='Hi there!');"
      ]
    },
    {
      "cell_type": "markdown",
      "metadata": {
        "id": "ixySwAukUcvB"
      },
      "source": [
        "`interact` can also be used as a decorator. This allows you to define a function and interact with it in a single shot. As this example shows, `interact` also works with functions that have multiple arguments."
      ]
    },
    {
      "cell_type": "code",
      "execution_count": 11,
      "metadata": {
        "id": "oEKC3LnKUcvB",
        "outputId": "7a62ff05-3f9e-48b1-dca5-b919e6cd8f0e",
        "colab": {
          "base_uri": "https://localhost:8080/",
          "height": 98,
          "referenced_widgets": [
            "a48b6d4f154d44448cb37b3c5a275d6f",
            "4cb11bb176b74e7e9a11e9ed8c09d16e",
            "20e5f7f022584886907ff915fcd7ab51",
            "f018d82318294a078dcc1fca1c3ede08",
            "9ce3c86890a141bc86fb1664a9a37c18",
            "3c99f0061e4243f69be813c341ef4d44",
            "d01b73056f8a4f08a9b91397e5dac57a",
            "73f3ec0cf773471e9ad4aa8e03f2387c",
            "b947a27bc3584cd48c19302e9c6b4b5e",
            "f398f13c89174064ac1a5a77f6040d58"
          ]
        }
      },
      "outputs": [
        {
          "output_type": "display_data",
          "data": {
            "text/plain": [
              "interactive(children=(Checkbox(value=True, description='x'), FloatSlider(value=1.0, description='y', max=3.0, …"
            ],
            "application/vnd.jupyter.widget-view+json": {
              "version_major": 2,
              "version_minor": 0,
              "model_id": "a48b6d4f154d44448cb37b3c5a275d6f"
            }
          },
          "metadata": {}
        }
      ],
      "source": [
        "@interact(x=True, y=1.0)\n",
        "def g(x, y):\n",
        "    return (x, y)"
      ]
    },
    {
      "cell_type": "markdown",
      "metadata": {
        "id": "uA_qkWohUcvB"
      },
      "source": [
        "## Fixing arguments using `fixed`"
      ]
    },
    {
      "cell_type": "markdown",
      "metadata": {
        "id": "5ZL2kNM7UcvB"
      },
      "source": [
        "There are times when you may want to explore a function using `interact`, but fix one or more of its arguments to specific values. This can be accomplished by wrapping values with the `fixed` function."
      ]
    },
    {
      "cell_type": "code",
      "execution_count": null,
      "metadata": {
        "id": "oUhkLtZKUcvB"
      },
      "outputs": [],
      "source": [
        "def h(p, q):\n",
        "    return (p, q)"
      ]
    },
    {
      "cell_type": "markdown",
      "metadata": {
        "id": "peJ-h0_WUcvB"
      },
      "source": [
        "When we call `interact`, we pass `fixed(20)` for q to hold it fixed at a value of `20`."
      ]
    },
    {
      "cell_type": "code",
      "execution_count": null,
      "metadata": {
        "id": "U7FF3nt1UcvB"
      },
      "outputs": [],
      "source": [
        "interact(h, p=5, q=fixed(20));"
      ]
    },
    {
      "cell_type": "markdown",
      "metadata": {
        "id": "7n2dlf3YUcvB"
      },
      "source": [
        "Notice that a slider is only produced for `p` as the value of `q` is fixed."
      ]
    },
    {
      "cell_type": "markdown",
      "metadata": {
        "id": "2n3GiYNJUcvB"
      },
      "source": [
        "## Widget abbreviations"
      ]
    },
    {
      "cell_type": "markdown",
      "metadata": {
        "id": "YH2Cwd8fUcvC"
      },
      "source": [
        "When you pass an integer-valued keyword argument of `10` (`x=10`) to `interact`, it generates an integer-valued slider control with a range of `[-10,+3*10]`. In this case, `10` is an *abbreviation* for an actual slider widget:\n",
        "\n",
        "```python\n",
        "IntSlider(min=-10, max=30, step=1, value=10)\n",
        "```\n",
        "\n",
        "In fact, we can get the same result if we pass this `IntSlider` as the keyword argument for `x`:"
      ]
    },
    {
      "cell_type": "code",
      "execution_count": null,
      "metadata": {
        "id": "4j1x8pGEUcvC"
      },
      "outputs": [],
      "source": [
        "interact(f, x=widgets.IntSlider(min=-10, max=30, step=1, value=10));"
      ]
    },
    {
      "cell_type": "markdown",
      "metadata": {
        "id": "WBWnTfcvUcvC"
      },
      "source": [
        "The following table gives an overview of different argument types, and how they map to interactive controls:\n",
        "\n",
        "<table class=\"table table-condensed table-bordered\">\n",
        "  <tr><td><strong>Keyword argument</strong></td><td><strong>Widget</strong></td></tr>  \n",
        "  <tr><td>`True` or `False`</td><td>Checkbox</td></tr>  \n",
        "  <tr><td>`'Hi there'`</td><td>Text</td></tr>\n",
        "  <tr><td>`value` or `(min,max)` or `(min,max,step)` if integers are passed</td><td>IntSlider</td></tr>\n",
        "  <tr><td>`value` or `(min,max)` or `(min,max,step)` if floats are passed</td><td>FloatSlider</td></tr>\n",
        "  <tr><td>`['orange','apple']` or `[('one', 1), ('two', 2)]</td><td>Dropdown</td></tr>\n",
        "</table>\n",
        "Note that a dropdown is used if a list or a list of tuples is given (signifying discrete choices), and a slider is used if a tuple is given (signifying a range)."
      ]
    },
    {
      "cell_type": "markdown",
      "metadata": {
        "id": "X0yaCEzJUcvC"
      },
      "source": [
        "You have seen how the checkbox and text widgets work above. Here, more details about the different abbreviations for sliders and dropdowns are given.\n",
        "\n",
        "If a 2-tuple of integers is passed `(min, max)`, an integer-valued slider is produced with those minimum and maximum values (inclusively). In this case, the default step size of `1` is used."
      ]
    },
    {
      "cell_type": "code",
      "execution_count": null,
      "metadata": {
        "id": "VXDFbjwFUcvC"
      },
      "outputs": [],
      "source": [
        "interact(f, x=(0,4));"
      ]
    },
    {
      "cell_type": "markdown",
      "metadata": {
        "id": "jvysb7RpUcvC"
      },
      "source": [
        "If a 3-tuple of integers is passed `(min,max,step)`, the step size can also be set."
      ]
    },
    {
      "cell_type": "code",
      "execution_count": null,
      "metadata": {
        "id": "sbyJe4joUcvC"
      },
      "outputs": [],
      "source": [
        "interact(f, x=(0,8,2));"
      ]
    },
    {
      "cell_type": "markdown",
      "metadata": {
        "id": "uUqseZ3TUcvC"
      },
      "source": [
        "A float-valued slider is produced if *any* of the elements of the tuples are floats. Here the minimum is `0.0`, the maximum is `10.0` and step size is `0.1` (the default)."
      ]
    },
    {
      "cell_type": "code",
      "execution_count": null,
      "metadata": {
        "id": "itp2cEsFUcvC"
      },
      "outputs": [],
      "source": [
        "interact(f, x=(0.0,10.0));"
      ]
    },
    {
      "cell_type": "markdown",
      "metadata": {
        "id": "igvnTBodUcvC"
      },
      "source": [
        "The step size can be changed by passing a third element in the tuple."
      ]
    },
    {
      "cell_type": "code",
      "execution_count": null,
      "metadata": {
        "id": "DVWC2anRUcvC"
      },
      "outputs": [],
      "source": [
        "interact(f, x=(0.0,10.0,0.01));"
      ]
    },
    {
      "cell_type": "markdown",
      "metadata": {
        "id": "20xcbUeBUcvC"
      },
      "source": [
        "For both integer and float-valued sliders, you can pick the initial value of the widget by passing a default keyword argument to the underlying Python function. Here we set the initial value of a float slider to `5.5`."
      ]
    },
    {
      "cell_type": "code",
      "execution_count": null,
      "metadata": {
        "id": "0TYmuiAsUcvC"
      },
      "outputs": [],
      "source": [
        "@interact(x=(0.0,20.0,0.5))\n",
        "def h(x=5.5):\n",
        "    return x"
      ]
    },
    {
      "cell_type": "markdown",
      "metadata": {
        "id": "z7E2wDH3UcvC"
      },
      "source": [
        "Dropdown menus are constructed by passing a list of strings. In this case, the strings are both used as the names in the dropdown menu UI and passed to the underlying Python function."
      ]
    },
    {
      "cell_type": "code",
      "execution_count": null,
      "metadata": {
        "id": "L-wxrKZuUcvC"
      },
      "outputs": [],
      "source": [
        "interact(f, x=['apples','oranges']);"
      ]
    },
    {
      "cell_type": "markdown",
      "metadata": {
        "id": "ddhHcjBdUcvC"
      },
      "source": [
        "If you want a dropdown menu that passes non-string values to the Python function, you can pass a list of `('label', value)` pairs. The first items are the names in the dropdown menu UI and the second items are values that are the arguments passed to the underlying Python function."
      ]
    },
    {
      "cell_type": "code",
      "execution_count": null,
      "metadata": {
        "id": "bXtiKBWYUcvC"
      },
      "outputs": [],
      "source": [
        "interact(f, x=[('one', 10), ('two', 20)]);"
      ]
    },
    {
      "cell_type": "markdown",
      "metadata": {
        "id": "o9gBLFaaUcvG"
      },
      "source": [
        "Finally, if you need more granular control than that afforded by the abbreviation, you can pass a `ValueWidget` instance as the argument. A `ValueWidget` is a widget that aims to control a single value. Most of the widgets [bundled with ipywidgets](Widget%20List.ipynb) inherit from `ValueWidget`. For more information, see [this section](Widget%20Custom.ipynb#DOMWidget,-ValueWidget-and-Widget) on widget types."
      ]
    },
    {
      "cell_type": "code",
      "execution_count": null,
      "metadata": {
        "id": "LbYPWEmvUcvG"
      },
      "outputs": [],
      "source": [
        "interact(f, x=widgets.Combobox(options=[\"Chicago\", \"New York\", \"Washington\"], value=\"Chicago\"));"
      ]
    },
    {
      "cell_type": "markdown",
      "metadata": {
        "id": "0RE0qp22UcvG"
      },
      "source": [
        "## Type Annotations"
      ]
    },
    {
      "cell_type": "markdown",
      "metadata": {
        "id": "VzRyYJi6UcvG"
      },
      "source": [
        "If the function that you are using with interact uses type annotations, `interact` may be able to use those to determine what UI components to use in the auto-generated UI.  For example, given a function with an argument annotated with type `float`"
      ]
    },
    {
      "cell_type": "code",
      "execution_count": null,
      "metadata": {
        "id": "0oh4xkDhUcvG"
      },
      "outputs": [],
      "source": [
        "def f(x: float):\n",
        "    return x"
      ]
    },
    {
      "cell_type": "markdown",
      "metadata": {
        "id": "-KYAOJvSUcvG"
      },
      "source": [
        "then `interact` will create a UI with a `FloatText` component without needing to be passed any values or abbreviations."
      ]
    },
    {
      "cell_type": "code",
      "execution_count": null,
      "metadata": {
        "id": "mORCpndfUcvG"
      },
      "outputs": [],
      "source": [
        "interact(f);"
      ]
    },
    {
      "cell_type": "markdown",
      "metadata": {
        "id": "Gpz8fbksUcvG"
      },
      "source": [
        "The following table gives an overview of different annotation types, and how they map to interactive controls:\n",
        "\n",
        "<table class=\"table table-condensed table-bordered\">\n",
        "  <tr><td><strong>Type Annotation</strong></td><td><strong>Widget</strong></td></tr>  \n",
        "  <tr><td>`bool`</td><td>Checkbox</td></tr>  \n",
        "  <tr><td>`str`</td><td>Text</td></tr>\n",
        "  <tr><td>`int`</td><td>IntText</td></tr>\n",
        "  <tr><td>`float`</td><td>FloatText</td></tr>\n",
        "  <tr><td>`Enum` subclasses</td><td>Dropdown</td></tr>\n",
        "</table>\n",
        "\n",
        "Other type annotations are ignored."
      ]
    },
    {
      "cell_type": "markdown",
      "metadata": {
        "id": "ams6m9sdUcvG"
      },
      "source": [
        "If values or abbreviations are passed to the `interact` function, those will override any type annotations when determining what widgets to create."
      ]
    },
    {
      "cell_type": "markdown",
      "metadata": {
        "id": "lDV5sXDkUcvG"
      },
      "source": [
        "Parameters which are annotationed with an `Enum` subclass will have a dropdown created whose labels are the names of the enumeration and which pass the corresponding values to the function parameter."
      ]
    },
    {
      "cell_type": "code",
      "execution_count": null,
      "metadata": {
        "id": "dSahpNRUUcvG"
      },
      "outputs": [],
      "source": [
        "from enum import Enum\n",
        "\n",
        "class Color(Enum):\n",
        "    red = 0\n",
        "    green = 1\n",
        "    blue = 2\n",
        "\n",
        "def h(color: Color):\n",
        "    return color"
      ]
    },
    {
      "cell_type": "markdown",
      "metadata": {
        "id": "ZmSYut-nUcvH"
      },
      "source": [
        "When `interact` is used with the function `h`, the Dropdown widget it creates will have options `\"red\"`, `\"green\"` and `\"blue\"` and the values passed to the function will be, correspondingly, `Color.red`, `Color.green` and `Color.blue`."
      ]
    },
    {
      "cell_type": "code",
      "execution_count": null,
      "metadata": {
        "id": "NGH-OTd5UcvH"
      },
      "outputs": [],
      "source": [
        "interact(h);"
      ]
    },
    {
      "cell_type": "markdown",
      "metadata": {
        "id": "5uWxBSocUcvH"
      },
      "source": [
        "## `interactive`"
      ]
    },
    {
      "cell_type": "markdown",
      "metadata": {
        "id": "2ry4kUP5UcvH"
      },
      "source": [
        "In addition to `interact`, IPython provides another function, `interactive`, that is useful when you want to reuse the widgets that are produced or access the data that is bound to the UI controls.\n",
        "\n",
        "Note that unlike `interact`, the return value of the function will not be displayed automatically, but you can display a value inside the function with `IPython.display.display`."
      ]
    },
    {
      "cell_type": "markdown",
      "metadata": {
        "id": "EugVgo9gUcvH"
      },
      "source": [
        "Here is a function that displays the sum of its two arguments and returns the sum. The `display` line may be omitted if you don't want to show the result of the function."
      ]
    },
    {
      "cell_type": "code",
      "execution_count": null,
      "metadata": {
        "id": "U3bwFRT1UcvH"
      },
      "outputs": [],
      "source": [
        "from IPython.display import display\n",
        "def f(a, b):\n",
        "    display(a + b)\n",
        "    return a+b"
      ]
    },
    {
      "cell_type": "markdown",
      "metadata": {
        "id": "saNMPO53UcvH"
      },
      "source": [
        "Unlike `interact`, `interactive` returns a `Widget` instance rather than immediately displaying the widget."
      ]
    },
    {
      "cell_type": "code",
      "execution_count": null,
      "metadata": {
        "id": "71cEWMYKUcvH"
      },
      "outputs": [],
      "source": [
        "w = interactive(f, a=10, b=20)"
      ]
    },
    {
      "cell_type": "markdown",
      "metadata": {
        "id": "ukWKabenUcvH"
      },
      "source": [
        "The widget is an `interactive`, a subclass of `VBox`, which is a container for other widgets."
      ]
    },
    {
      "cell_type": "code",
      "execution_count": null,
      "metadata": {
        "id": "jilPdkWuUcvH"
      },
      "outputs": [],
      "source": [
        "type(w)"
      ]
    },
    {
      "cell_type": "markdown",
      "metadata": {
        "id": "Mx-u1NfaUcvH"
      },
      "source": [
        "The children of the `interactive` are two integer-valued sliders and an output widget, produced by the widget abbreviations above."
      ]
    },
    {
      "cell_type": "code",
      "execution_count": null,
      "metadata": {
        "id": "aFAt1sWIUcvH"
      },
      "outputs": [],
      "source": [
        "w.children"
      ]
    },
    {
      "cell_type": "markdown",
      "metadata": {
        "id": "td3shQv6UcvH"
      },
      "source": [
        "To actually display the widgets, you can use IPython's `display` function."
      ]
    },
    {
      "cell_type": "code",
      "execution_count": null,
      "metadata": {
        "id": "h7hZB12eUcvH"
      },
      "outputs": [],
      "source": [
        "display(w)"
      ]
    },
    {
      "cell_type": "markdown",
      "metadata": {
        "id": "apu4NZm7UcvH"
      },
      "source": [
        "At this point, the UI controls work just like they would if `interact` had been used. You can manipulate them interactively and the function will be called. However, the widget instance returned by `interactive` also gives you access to the current keyword arguments and return value of the underlying Python function.\n",
        "\n",
        "Here are the current keyword arguments. If you rerun this cell after manipulating the sliders, the values will have changed."
      ]
    },
    {
      "cell_type": "code",
      "execution_count": null,
      "metadata": {
        "id": "en0_w2hWUcvH"
      },
      "outputs": [],
      "source": [
        "w.kwargs"
      ]
    },
    {
      "cell_type": "markdown",
      "metadata": {
        "id": "QK1gw-l6UcvH"
      },
      "source": [
        "Here is the current return value of the function."
      ]
    },
    {
      "cell_type": "code",
      "execution_count": null,
      "metadata": {
        "id": "IbpytGPlUcvH"
      },
      "outputs": [],
      "source": [
        "w.result"
      ]
    },
    {
      "cell_type": "markdown",
      "metadata": {
        "id": "fJNc9-qfUcvH"
      },
      "source": [
        "## Disabling continuous updates"
      ]
    },
    {
      "cell_type": "markdown",
      "metadata": {
        "id": "rqEV-KM-UcvH"
      },
      "source": [
        "When interacting with long running functions, realtime feedback is a burden instead of being helpful.  See the following example:"
      ]
    },
    {
      "cell_type": "code",
      "execution_count": null,
      "metadata": {
        "id": "w1DXFD_dUcvH"
      },
      "outputs": [],
      "source": [
        "def slow_function(i):\n",
        "    print(int(i),list(x for x in range(int(i)) if\n",
        "                str(x)==str(x)[::-1] and\n",
        "                str(x**2)==str(x**2)[::-1]))\n",
        "    return"
      ]
    },
    {
      "cell_type": "code",
      "execution_count": null,
      "metadata": {
        "id": "A46cPGbiUcvH"
      },
      "outputs": [],
      "source": [
        "%%time\n",
        "slow_function(1e6)"
      ]
    },
    {
      "cell_type": "markdown",
      "metadata": {
        "id": "xMuGXtXuUcvI"
      },
      "source": [
        "Notice that the output is updated even while dragging the mouse on the slider. This is not useful for long running functions due to lagging:"
      ]
    },
    {
      "cell_type": "code",
      "execution_count": null,
      "metadata": {
        "id": "hXl6dhmEUcvI"
      },
      "outputs": [],
      "source": [
        "from ipywidgets import FloatSlider\n",
        "interact(slow_function,i=FloatSlider(min=1e5, max=1e7, step=1e5));"
      ]
    },
    {
      "cell_type": "markdown",
      "metadata": {
        "id": "FW3vhZo7UcvI"
      },
      "source": [
        "There are two ways to mitigate this.  You can either only execute on demand, or restrict execution to mouse release events."
      ]
    },
    {
      "cell_type": "markdown",
      "metadata": {
        "id": "qUEHaAetUcvI"
      },
      "source": [
        "### `interact_manual`"
      ]
    },
    {
      "cell_type": "markdown",
      "metadata": {
        "id": "jwars4QrUcvI"
      },
      "source": [
        "The `interact_manual` function provides a variant of interaction that allows you to restrict execution so it is only done on demand.  A button is added to the interact controls that allows you to trigger an execute event."
      ]
    },
    {
      "cell_type": "code",
      "execution_count": null,
      "metadata": {
        "id": "WILUPYQ1UcvI"
      },
      "outputs": [],
      "source": [
        "interact_manual(slow_function,i=FloatSlider(min=1e5, max=1e7, step=1e5));"
      ]
    },
    {
      "cell_type": "markdown",
      "metadata": {
        "id": "Erc1o4GOUcvI"
      },
      "source": [
        "You can do the same thing with `interactive` by using a `dict` as the second argument, as shown below."
      ]
    },
    {
      "cell_type": "code",
      "execution_count": null,
      "metadata": {
        "id": "Wno5vosnUcvI"
      },
      "outputs": [],
      "source": [
        "slow = interactive(slow_function, {'manual': True}, i=widgets.FloatSlider(min=1e4, max=1e6, step=1e4))\n",
        "slow"
      ]
    },
    {
      "cell_type": "markdown",
      "metadata": {
        "id": "U4_Hht8hUcvI"
      },
      "source": [
        "### `continuous_update`"
      ]
    },
    {
      "cell_type": "markdown",
      "metadata": {
        "id": "wOJCe9nJUcvI"
      },
      "source": [
        "If you are using slider widgets, you can set the `continuous_update` kwarg to `False`.  `continuous_update` is a kwarg of slider widgets that restricts executions to mouse release events."
      ]
    },
    {
      "cell_type": "code",
      "execution_count": null,
      "metadata": {
        "id": "MxZtywCpUcvI"
      },
      "outputs": [],
      "source": [
        "interact(slow_function,i=FloatSlider(min=1e5, max=1e7, step=1e5, continuous_update=False));"
      ]
    },
    {
      "cell_type": "markdown",
      "metadata": {
        "id": "WeP_BhA8UcvI"
      },
      "source": [
        "## More control over the user interface: `interactive_output`\n",
        "\n",
        "`interactive_output` provides additional flexibility: you can control how the UI elements are laid out.\n",
        "\n",
        "Unlike `interact`, `interactive`, and `interact_manual`, `interactive_output` does not generate a user interface for the widgets. This is powerful, because it means you can create a widget, put it in a box, and then pass the widget to `interactive_output`, and have control over the widget and its layout."
      ]
    },
    {
      "cell_type": "code",
      "execution_count": null,
      "metadata": {
        "id": "JnICd1D7UcvI"
      },
      "outputs": [],
      "source": [
        "a = widgets.IntSlider()\n",
        "b = widgets.IntSlider()\n",
        "c = widgets.IntSlider()\n",
        "ui = widgets.HBox([a, b, c])\n",
        "def f(a, b, c):\n",
        "    print((a, b, c))\n",
        "\n",
        "out = widgets.interactive_output(f, {'a': a, 'b': b, 'c': c})\n",
        "\n",
        "display(ui, out)"
      ]
    },
    {
      "cell_type": "markdown",
      "metadata": {
        "id": "LOyMhHpMUcvI"
      },
      "source": [
        "## Arguments that are dependent on each other"
      ]
    },
    {
      "cell_type": "markdown",
      "metadata": {
        "id": "3Ree-8zKUcvI"
      },
      "source": [
        "Arguments that are dependent on each other can be expressed manually using `observe`.  See the following example, where one variable is used to describe the bounds of another.  For more information, please see the [widget events example notebook](./Widget%20Events.ipynb)."
      ]
    },
    {
      "cell_type": "code",
      "execution_count": null,
      "metadata": {
        "id": "zmX5u17uUcvI"
      },
      "outputs": [],
      "source": [
        "x_widget = FloatSlider(min=0.0, max=10.0, step=0.05)\n",
        "y_widget = FloatSlider(min=0.5, max=10.0, step=0.05, value=5.0)\n",
        "\n",
        "def update_x_range(*args):\n",
        "    x_widget.max = 2.0 * y_widget.value\n",
        "y_widget.observe(update_x_range, 'value')\n",
        "\n",
        "def printer(x, y):\n",
        "    print(x, y)\n",
        "interact(printer,x=x_widget, y=y_widget);"
      ]
    },
    {
      "cell_type": "markdown",
      "metadata": {
        "id": "ufXQZ0BrUcvI"
      },
      "source": [
        "## Flickering and jumping output\n",
        "\n",
        "On occasion, you may notice interact output flickering and jumping, causing the notebook scroll position to change as the output is updated. The interactive control has a layout, so we can set its height to an appropriate value (currently chosen manually) so that it will not change size as it is updated.\n"
      ]
    },
    {
      "cell_type": "code",
      "execution_count": null,
      "metadata": {
        "id": "81W-laaPUcvI"
      },
      "outputs": [],
      "source": [
        "%matplotlib inline\n",
        "from ipywidgets import interactive\n",
        "import matplotlib.pyplot as plt\n",
        "import numpy as np\n",
        "\n",
        "def f(m, b):\n",
        "    plt.figure(2)\n",
        "    x = np.linspace(-10, 10, num=1000)\n",
        "    plt.plot(x, m * x + b)\n",
        "    plt.ylim(-5, 5)\n",
        "    plt.show()\n",
        "\n",
        "interactive_plot = interactive(f, m=(-2.0, 2.0), b=(-3, 3, 0.5))\n",
        "output = interactive_plot.children[-1]\n",
        "output.layout.height = '350px'\n",
        "interactive_plot"
      ]
    },
    {
      "cell_type": "markdown",
      "metadata": {
        "id": "6hhkEE4eUcvI"
      },
      "source": [
        "## Interact with multiple functions\n",
        "\n",
        "You may want to have a single widget interact with multiple functions. This is possible by simply linking the widget to both functions using the interactive_output() function. The order of execution of the functions will be the order they were linked to the widget.\n"
      ]
    },
    {
      "cell_type": "code",
      "execution_count": null,
      "metadata": {
        "id": "MKVrvkYEUcvI"
      },
      "outputs": [],
      "source": [
        "import ipywidgets as widgets\n",
        "from IPython.display import display\n",
        "\n",
        "a = widgets.IntSlider(value=5, min=0, max=10)\n",
        "\n",
        "def f1(a):\n",
        "    display(a)\n",
        "\n",
        "def f2(a):\n",
        "    display(a * 2)\n",
        "\n",
        "out1 = widgets.interactive_output(f1, {'a': a})\n",
        "out2 = widgets.interactive_output(f2, {'a': a})\n",
        "\n",
        "display(a)\n",
        "display(out1)\n",
        "display(out2)"
      ]
    },
    {
      "cell_type": "code",
      "execution_count": null,
      "metadata": {
        "id": "QoiwwIh0UcvI"
      },
      "outputs": [],
      "source": []
    }
  ],
  "metadata": {
    "kernelspec": {
      "display_name": "Python 3 (ipykernel)",
      "language": "python",
      "name": "python3"
    },
    "language_info": {
      "codemirror_mode": {
        "name": "ipython",
        "version": 3
      },
      "file_extension": ".py",
      "mimetype": "text/x-python",
      "name": "python",
      "nbconvert_exporter": "python",
      "pygments_lexer": "ipython3",
      "version": "3.12.2"
    },
    "colab": {
      "provenance": []
    },
    "widgets": {
      "application/vnd.jupyter.widget-state+json": {
        "2e30b1e7ce604eeabda4ceeb7c6b1f25": {
          "model_module": "@jupyter-widgets/controls",
          "model_name": "VBoxModel",
          "model_module_version": "1.5.0",
          "state": {
            "_dom_classes": [
              "widget-interact"
            ],
            "_model_module": "@jupyter-widgets/controls",
            "_model_module_version": "1.5.0",
            "_model_name": "VBoxModel",
            "_view_count": null,
            "_view_module": "@jupyter-widgets/controls",
            "_view_module_version": "1.5.0",
            "_view_name": "VBoxView",
            "box_style": "",
            "children": [
              "IPY_MODEL_42f09f1907604c57b777f3e8ef3dab53",
              "IPY_MODEL_10c398819a604697beb5881e64bd3bd4"
            ],
            "layout": "IPY_MODEL_e889f65676204e6bad5c47286fccc451"
          }
        },
        "42f09f1907604c57b777f3e8ef3dab53": {
          "model_module": "@jupyter-widgets/controls",
          "model_name": "IntSliderModel",
          "model_module_version": "1.5.0",
          "state": {
            "_dom_classes": [],
            "_model_module": "@jupyter-widgets/controls",
            "_model_module_version": "1.5.0",
            "_model_name": "IntSliderModel",
            "_view_count": null,
            "_view_module": "@jupyter-widgets/controls",
            "_view_module_version": "1.5.0",
            "_view_name": "IntSliderView",
            "continuous_update": true,
            "description": "x",
            "description_tooltip": null,
            "disabled": false,
            "layout": "IPY_MODEL_3a1148613e66446893ea90f2221136e3",
            "max": 30,
            "min": -10,
            "orientation": "horizontal",
            "readout": true,
            "readout_format": "d",
            "step": 1,
            "style": "IPY_MODEL_eec3763df60e4534a280ed7c7c3d0e42",
            "value": 10
          }
        },
        "10c398819a604697beb5881e64bd3bd4": {
          "model_module": "@jupyter-widgets/output",
          "model_name": "OutputModel",
          "model_module_version": "1.0.0",
          "state": {
            "_dom_classes": [],
            "_model_module": "@jupyter-widgets/output",
            "_model_module_version": "1.0.0",
            "_model_name": "OutputModel",
            "_view_count": null,
            "_view_module": "@jupyter-widgets/output",
            "_view_module_version": "1.0.0",
            "_view_name": "OutputView",
            "layout": "IPY_MODEL_208fc3b040aa46c3b955b540480bc654",
            "msg_id": "",
            "outputs": [
              {
                "output_type": "display_data",
                "data": {
                  "text/plain": "10"
                },
                "metadata": {}
              }
            ]
          }
        },
        "e889f65676204e6bad5c47286fccc451": {
          "model_module": "@jupyter-widgets/base",
          "model_name": "LayoutModel",
          "model_module_version": "1.2.0",
          "state": {
            "_model_module": "@jupyter-widgets/base",
            "_model_module_version": "1.2.0",
            "_model_name": "LayoutModel",
            "_view_count": null,
            "_view_module": "@jupyter-widgets/base",
            "_view_module_version": "1.2.0",
            "_view_name": "LayoutView",
            "align_content": null,
            "align_items": null,
            "align_self": null,
            "border": null,
            "bottom": null,
            "display": null,
            "flex": null,
            "flex_flow": null,
            "grid_area": null,
            "grid_auto_columns": null,
            "grid_auto_flow": null,
            "grid_auto_rows": null,
            "grid_column": null,
            "grid_gap": null,
            "grid_row": null,
            "grid_template_areas": null,
            "grid_template_columns": null,
            "grid_template_rows": null,
            "height": null,
            "justify_content": null,
            "justify_items": null,
            "left": null,
            "margin": null,
            "max_height": null,
            "max_width": null,
            "min_height": null,
            "min_width": null,
            "object_fit": null,
            "object_position": null,
            "order": null,
            "overflow": null,
            "overflow_x": null,
            "overflow_y": null,
            "padding": null,
            "right": null,
            "top": null,
            "visibility": null,
            "width": null
          }
        },
        "3a1148613e66446893ea90f2221136e3": {
          "model_module": "@jupyter-widgets/base",
          "model_name": "LayoutModel",
          "model_module_version": "1.2.0",
          "state": {
            "_model_module": "@jupyter-widgets/base",
            "_model_module_version": "1.2.0",
            "_model_name": "LayoutModel",
            "_view_count": null,
            "_view_module": "@jupyter-widgets/base",
            "_view_module_version": "1.2.0",
            "_view_name": "LayoutView",
            "align_content": null,
            "align_items": null,
            "align_self": null,
            "border": null,
            "bottom": null,
            "display": null,
            "flex": null,
            "flex_flow": null,
            "grid_area": null,
            "grid_auto_columns": null,
            "grid_auto_flow": null,
            "grid_auto_rows": null,
            "grid_column": null,
            "grid_gap": null,
            "grid_row": null,
            "grid_template_areas": null,
            "grid_template_columns": null,
            "grid_template_rows": null,
            "height": null,
            "justify_content": null,
            "justify_items": null,
            "left": null,
            "margin": null,
            "max_height": null,
            "max_width": null,
            "min_height": null,
            "min_width": null,
            "object_fit": null,
            "object_position": null,
            "order": null,
            "overflow": null,
            "overflow_x": null,
            "overflow_y": null,
            "padding": null,
            "right": null,
            "top": null,
            "visibility": null,
            "width": null
          }
        },
        "eec3763df60e4534a280ed7c7c3d0e42": {
          "model_module": "@jupyter-widgets/controls",
          "model_name": "SliderStyleModel",
          "model_module_version": "1.5.0",
          "state": {
            "_model_module": "@jupyter-widgets/controls",
            "_model_module_version": "1.5.0",
            "_model_name": "SliderStyleModel",
            "_view_count": null,
            "_view_module": "@jupyter-widgets/base",
            "_view_module_version": "1.2.0",
            "_view_name": "StyleView",
            "description_width": "",
            "handle_color": null
          }
        },
        "208fc3b040aa46c3b955b540480bc654": {
          "model_module": "@jupyter-widgets/base",
          "model_name": "LayoutModel",
          "model_module_version": "1.2.0",
          "state": {
            "_model_module": "@jupyter-widgets/base",
            "_model_module_version": "1.2.0",
            "_model_name": "LayoutModel",
            "_view_count": null,
            "_view_module": "@jupyter-widgets/base",
            "_view_module_version": "1.2.0",
            "_view_name": "LayoutView",
            "align_content": null,
            "align_items": null,
            "align_self": null,
            "border": null,
            "bottom": null,
            "display": null,
            "flex": null,
            "flex_flow": null,
            "grid_area": null,
            "grid_auto_columns": null,
            "grid_auto_flow": null,
            "grid_auto_rows": null,
            "grid_column": null,
            "grid_gap": null,
            "grid_row": null,
            "grid_template_areas": null,
            "grid_template_columns": null,
            "grid_template_rows": null,
            "height": null,
            "justify_content": null,
            "justify_items": null,
            "left": null,
            "margin": null,
            "max_height": null,
            "max_width": null,
            "min_height": null,
            "min_width": null,
            "object_fit": null,
            "object_position": null,
            "order": null,
            "overflow": null,
            "overflow_x": null,
            "overflow_y": null,
            "padding": null,
            "right": null,
            "top": null,
            "visibility": null,
            "width": null
          }
        },
        "0bd6666cd9bb441aad56afc589ffd176": {
          "model_module": "@jupyter-widgets/controls",
          "model_name": "VBoxModel",
          "model_module_version": "1.5.0",
          "state": {
            "_dom_classes": [
              "widget-interact"
            ],
            "_model_module": "@jupyter-widgets/controls",
            "_model_module_version": "1.5.0",
            "_model_name": "VBoxModel",
            "_view_count": null,
            "_view_module": "@jupyter-widgets/controls",
            "_view_module_version": "1.5.0",
            "_view_name": "VBoxView",
            "box_style": "",
            "children": [
              "IPY_MODEL_7352ded1ab7941478d0ddab880fd5bbd",
              "IPY_MODEL_561f079a97504781b1876c125d7c02fd"
            ],
            "layout": "IPY_MODEL_06a993a791a44dc084299abbfec13b0b"
          }
        },
        "7352ded1ab7941478d0ddab880fd5bbd": {
          "model_module": "@jupyter-widgets/controls",
          "model_name": "CheckboxModel",
          "model_module_version": "1.5.0",
          "state": {
            "_dom_classes": [],
            "_model_module": "@jupyter-widgets/controls",
            "_model_module_version": "1.5.0",
            "_model_name": "CheckboxModel",
            "_view_count": null,
            "_view_module": "@jupyter-widgets/controls",
            "_view_module_version": "1.5.0",
            "_view_name": "CheckboxView",
            "description": "x",
            "description_tooltip": null,
            "disabled": false,
            "indent": true,
            "layout": "IPY_MODEL_f49ba990afcb4c9681aa21566e97ccc8",
            "style": "IPY_MODEL_aecbfae6ad984f4fbded37b759390bbd",
            "value": true
          }
        },
        "561f079a97504781b1876c125d7c02fd": {
          "model_module": "@jupyter-widgets/output",
          "model_name": "OutputModel",
          "model_module_version": "1.0.0",
          "state": {
            "_dom_classes": [],
            "_model_module": "@jupyter-widgets/output",
            "_model_module_version": "1.0.0",
            "_model_name": "OutputModel",
            "_view_count": null,
            "_view_module": "@jupyter-widgets/output",
            "_view_module_version": "1.0.0",
            "_view_name": "OutputView",
            "layout": "IPY_MODEL_6a179d0a0b884c6f8f6314a6407a6608",
            "msg_id": "",
            "outputs": [
              {
                "output_type": "display_data",
                "data": {
                  "text/plain": "True"
                },
                "metadata": {}
              }
            ]
          }
        },
        "06a993a791a44dc084299abbfec13b0b": {
          "model_module": "@jupyter-widgets/base",
          "model_name": "LayoutModel",
          "model_module_version": "1.2.0",
          "state": {
            "_model_module": "@jupyter-widgets/base",
            "_model_module_version": "1.2.0",
            "_model_name": "LayoutModel",
            "_view_count": null,
            "_view_module": "@jupyter-widgets/base",
            "_view_module_version": "1.2.0",
            "_view_name": "LayoutView",
            "align_content": null,
            "align_items": null,
            "align_self": null,
            "border": null,
            "bottom": null,
            "display": null,
            "flex": null,
            "flex_flow": null,
            "grid_area": null,
            "grid_auto_columns": null,
            "grid_auto_flow": null,
            "grid_auto_rows": null,
            "grid_column": null,
            "grid_gap": null,
            "grid_row": null,
            "grid_template_areas": null,
            "grid_template_columns": null,
            "grid_template_rows": null,
            "height": null,
            "justify_content": null,
            "justify_items": null,
            "left": null,
            "margin": null,
            "max_height": null,
            "max_width": null,
            "min_height": null,
            "min_width": null,
            "object_fit": null,
            "object_position": null,
            "order": null,
            "overflow": null,
            "overflow_x": null,
            "overflow_y": null,
            "padding": null,
            "right": null,
            "top": null,
            "visibility": null,
            "width": null
          }
        },
        "f49ba990afcb4c9681aa21566e97ccc8": {
          "model_module": "@jupyter-widgets/base",
          "model_name": "LayoutModel",
          "model_module_version": "1.2.0",
          "state": {
            "_model_module": "@jupyter-widgets/base",
            "_model_module_version": "1.2.0",
            "_model_name": "LayoutModel",
            "_view_count": null,
            "_view_module": "@jupyter-widgets/base",
            "_view_module_version": "1.2.0",
            "_view_name": "LayoutView",
            "align_content": null,
            "align_items": null,
            "align_self": null,
            "border": null,
            "bottom": null,
            "display": null,
            "flex": null,
            "flex_flow": null,
            "grid_area": null,
            "grid_auto_columns": null,
            "grid_auto_flow": null,
            "grid_auto_rows": null,
            "grid_column": null,
            "grid_gap": null,
            "grid_row": null,
            "grid_template_areas": null,
            "grid_template_columns": null,
            "grid_template_rows": null,
            "height": null,
            "justify_content": null,
            "justify_items": null,
            "left": null,
            "margin": null,
            "max_height": null,
            "max_width": null,
            "min_height": null,
            "min_width": null,
            "object_fit": null,
            "object_position": null,
            "order": null,
            "overflow": null,
            "overflow_x": null,
            "overflow_y": null,
            "padding": null,
            "right": null,
            "top": null,
            "visibility": null,
            "width": null
          }
        },
        "aecbfae6ad984f4fbded37b759390bbd": {
          "model_module": "@jupyter-widgets/controls",
          "model_name": "DescriptionStyleModel",
          "model_module_version": "1.5.0",
          "state": {
            "_model_module": "@jupyter-widgets/controls",
            "_model_module_version": "1.5.0",
            "_model_name": "DescriptionStyleModel",
            "_view_count": null,
            "_view_module": "@jupyter-widgets/base",
            "_view_module_version": "1.2.0",
            "_view_name": "StyleView",
            "description_width": ""
          }
        },
        "6a179d0a0b884c6f8f6314a6407a6608": {
          "model_module": "@jupyter-widgets/base",
          "model_name": "LayoutModel",
          "model_module_version": "1.2.0",
          "state": {
            "_model_module": "@jupyter-widgets/base",
            "_model_module_version": "1.2.0",
            "_model_name": "LayoutModel",
            "_view_count": null,
            "_view_module": "@jupyter-widgets/base",
            "_view_module_version": "1.2.0",
            "_view_name": "LayoutView",
            "align_content": null,
            "align_items": null,
            "align_self": null,
            "border": null,
            "bottom": null,
            "display": null,
            "flex": null,
            "flex_flow": null,
            "grid_area": null,
            "grid_auto_columns": null,
            "grid_auto_flow": null,
            "grid_auto_rows": null,
            "grid_column": null,
            "grid_gap": null,
            "grid_row": null,
            "grid_template_areas": null,
            "grid_template_columns": null,
            "grid_template_rows": null,
            "height": null,
            "justify_content": null,
            "justify_items": null,
            "left": null,
            "margin": null,
            "max_height": null,
            "max_width": null,
            "min_height": null,
            "min_width": null,
            "object_fit": null,
            "object_position": null,
            "order": null,
            "overflow": null,
            "overflow_x": null,
            "overflow_y": null,
            "padding": null,
            "right": null,
            "top": null,
            "visibility": null,
            "width": null
          }
        },
        "be1904e073e442be9c59f1edabc75334": {
          "model_module": "@jupyter-widgets/controls",
          "model_name": "VBoxModel",
          "model_module_version": "1.5.0",
          "state": {
            "_dom_classes": [
              "widget-interact"
            ],
            "_model_module": "@jupyter-widgets/controls",
            "_model_module_version": "1.5.0",
            "_model_name": "VBoxModel",
            "_view_count": null,
            "_view_module": "@jupyter-widgets/controls",
            "_view_module_version": "1.5.0",
            "_view_name": "VBoxView",
            "box_style": "",
            "children": [
              "IPY_MODEL_76fbdbf3c99941078b56999f6329f6d7",
              "IPY_MODEL_28fda8a3ee7a431b9877bb7771cea821"
            ],
            "layout": "IPY_MODEL_66ca9a6e85d84401a1fd1953d5f1f009"
          }
        },
        "76fbdbf3c99941078b56999f6329f6d7": {
          "model_module": "@jupyter-widgets/controls",
          "model_name": "TextModel",
          "model_module_version": "1.5.0",
          "state": {
            "_dom_classes": [],
            "_model_module": "@jupyter-widgets/controls",
            "_model_module_version": "1.5.0",
            "_model_name": "TextModel",
            "_view_count": null,
            "_view_module": "@jupyter-widgets/controls",
            "_view_module_version": "1.5.0",
            "_view_name": "TextView",
            "continuous_update": true,
            "description": "x",
            "description_tooltip": null,
            "disabled": false,
            "layout": "IPY_MODEL_6177e9531cd64fe0870f35bc5fd957f5",
            "placeholder": "​",
            "style": "IPY_MODEL_0d13858517ee49dfb87f12e85e101f0e",
            "value": "Hello!"
          }
        },
        "28fda8a3ee7a431b9877bb7771cea821": {
          "model_module": "@jupyter-widgets/output",
          "model_name": "OutputModel",
          "model_module_version": "1.0.0",
          "state": {
            "_dom_classes": [],
            "_model_module": "@jupyter-widgets/output",
            "_model_module_version": "1.0.0",
            "_model_name": "OutputModel",
            "_view_count": null,
            "_view_module": "@jupyter-widgets/output",
            "_view_module_version": "1.0.0",
            "_view_name": "OutputView",
            "layout": "IPY_MODEL_be44f0c2a3f74b79bf0deccfd54ec8a6",
            "msg_id": "",
            "outputs": [
              {
                "output_type": "display_data",
                "data": {
                  "text/plain": "'Hello!'",
                  "application/vnd.google.colaboratory.intrinsic+json": {
                    "type": "string"
                  }
                },
                "metadata": {}
              }
            ]
          }
        },
        "66ca9a6e85d84401a1fd1953d5f1f009": {
          "model_module": "@jupyter-widgets/base",
          "model_name": "LayoutModel",
          "model_module_version": "1.2.0",
          "state": {
            "_model_module": "@jupyter-widgets/base",
            "_model_module_version": "1.2.0",
            "_model_name": "LayoutModel",
            "_view_count": null,
            "_view_module": "@jupyter-widgets/base",
            "_view_module_version": "1.2.0",
            "_view_name": "LayoutView",
            "align_content": null,
            "align_items": null,
            "align_self": null,
            "border": null,
            "bottom": null,
            "display": null,
            "flex": null,
            "flex_flow": null,
            "grid_area": null,
            "grid_auto_columns": null,
            "grid_auto_flow": null,
            "grid_auto_rows": null,
            "grid_column": null,
            "grid_gap": null,
            "grid_row": null,
            "grid_template_areas": null,
            "grid_template_columns": null,
            "grid_template_rows": null,
            "height": null,
            "justify_content": null,
            "justify_items": null,
            "left": null,
            "margin": null,
            "max_height": null,
            "max_width": null,
            "min_height": null,
            "min_width": null,
            "object_fit": null,
            "object_position": null,
            "order": null,
            "overflow": null,
            "overflow_x": null,
            "overflow_y": null,
            "padding": null,
            "right": null,
            "top": null,
            "visibility": null,
            "width": null
          }
        },
        "6177e9531cd64fe0870f35bc5fd957f5": {
          "model_module": "@jupyter-widgets/base",
          "model_name": "LayoutModel",
          "model_module_version": "1.2.0",
          "state": {
            "_model_module": "@jupyter-widgets/base",
            "_model_module_version": "1.2.0",
            "_model_name": "LayoutModel",
            "_view_count": null,
            "_view_module": "@jupyter-widgets/base",
            "_view_module_version": "1.2.0",
            "_view_name": "LayoutView",
            "align_content": null,
            "align_items": null,
            "align_self": null,
            "border": null,
            "bottom": null,
            "display": null,
            "flex": null,
            "flex_flow": null,
            "grid_area": null,
            "grid_auto_columns": null,
            "grid_auto_flow": null,
            "grid_auto_rows": null,
            "grid_column": null,
            "grid_gap": null,
            "grid_row": null,
            "grid_template_areas": null,
            "grid_template_columns": null,
            "grid_template_rows": null,
            "height": null,
            "justify_content": null,
            "justify_items": null,
            "left": null,
            "margin": null,
            "max_height": null,
            "max_width": null,
            "min_height": null,
            "min_width": null,
            "object_fit": null,
            "object_position": null,
            "order": null,
            "overflow": null,
            "overflow_x": null,
            "overflow_y": null,
            "padding": null,
            "right": null,
            "top": null,
            "visibility": null,
            "width": null
          }
        },
        "0d13858517ee49dfb87f12e85e101f0e": {
          "model_module": "@jupyter-widgets/controls",
          "model_name": "DescriptionStyleModel",
          "model_module_version": "1.5.0",
          "state": {
            "_model_module": "@jupyter-widgets/controls",
            "_model_module_version": "1.5.0",
            "_model_name": "DescriptionStyleModel",
            "_view_count": null,
            "_view_module": "@jupyter-widgets/base",
            "_view_module_version": "1.2.0",
            "_view_name": "StyleView",
            "description_width": ""
          }
        },
        "be44f0c2a3f74b79bf0deccfd54ec8a6": {
          "model_module": "@jupyter-widgets/base",
          "model_name": "LayoutModel",
          "model_module_version": "1.2.0",
          "state": {
            "_model_module": "@jupyter-widgets/base",
            "_model_module_version": "1.2.0",
            "_model_name": "LayoutModel",
            "_view_count": null,
            "_view_module": "@jupyter-widgets/base",
            "_view_module_version": "1.2.0",
            "_view_name": "LayoutView",
            "align_content": null,
            "align_items": null,
            "align_self": null,
            "border": null,
            "bottom": null,
            "display": null,
            "flex": null,
            "flex_flow": null,
            "grid_area": null,
            "grid_auto_columns": null,
            "grid_auto_flow": null,
            "grid_auto_rows": null,
            "grid_column": null,
            "grid_gap": null,
            "grid_row": null,
            "grid_template_areas": null,
            "grid_template_columns": null,
            "grid_template_rows": null,
            "height": null,
            "justify_content": null,
            "justify_items": null,
            "left": null,
            "margin": null,
            "max_height": null,
            "max_width": null,
            "min_height": null,
            "min_width": null,
            "object_fit": null,
            "object_position": null,
            "order": null,
            "overflow": null,
            "overflow_x": null,
            "overflow_y": null,
            "padding": null,
            "right": null,
            "top": null,
            "visibility": null,
            "width": null
          }
        },
        "a48b6d4f154d44448cb37b3c5a275d6f": {
          "model_module": "@jupyter-widgets/controls",
          "model_name": "VBoxModel",
          "model_module_version": "1.5.0",
          "state": {
            "_dom_classes": [
              "widget-interact"
            ],
            "_model_module": "@jupyter-widgets/controls",
            "_model_module_version": "1.5.0",
            "_model_name": "VBoxModel",
            "_view_count": null,
            "_view_module": "@jupyter-widgets/controls",
            "_view_module_version": "1.5.0",
            "_view_name": "VBoxView",
            "box_style": "",
            "children": [
              "IPY_MODEL_4cb11bb176b74e7e9a11e9ed8c09d16e",
              "IPY_MODEL_20e5f7f022584886907ff915fcd7ab51",
              "IPY_MODEL_f018d82318294a078dcc1fca1c3ede08"
            ],
            "layout": "IPY_MODEL_9ce3c86890a141bc86fb1664a9a37c18"
          }
        },
        "4cb11bb176b74e7e9a11e9ed8c09d16e": {
          "model_module": "@jupyter-widgets/controls",
          "model_name": "CheckboxModel",
          "model_module_version": "1.5.0",
          "state": {
            "_dom_classes": [],
            "_model_module": "@jupyter-widgets/controls",
            "_model_module_version": "1.5.0",
            "_model_name": "CheckboxModel",
            "_view_count": null,
            "_view_module": "@jupyter-widgets/controls",
            "_view_module_version": "1.5.0",
            "_view_name": "CheckboxView",
            "description": "x",
            "description_tooltip": null,
            "disabled": false,
            "indent": true,
            "layout": "IPY_MODEL_3c99f0061e4243f69be813c341ef4d44",
            "style": "IPY_MODEL_d01b73056f8a4f08a9b91397e5dac57a",
            "value": true
          }
        },
        "20e5f7f022584886907ff915fcd7ab51": {
          "model_module": "@jupyter-widgets/controls",
          "model_name": "FloatSliderModel",
          "model_module_version": "1.5.0",
          "state": {
            "_dom_classes": [],
            "_model_module": "@jupyter-widgets/controls",
            "_model_module_version": "1.5.0",
            "_model_name": "FloatSliderModel",
            "_view_count": null,
            "_view_module": "@jupyter-widgets/controls",
            "_view_module_version": "1.5.0",
            "_view_name": "FloatSliderView",
            "continuous_update": true,
            "description": "y",
            "description_tooltip": null,
            "disabled": false,
            "layout": "IPY_MODEL_73f3ec0cf773471e9ad4aa8e03f2387c",
            "max": 3,
            "min": -1,
            "orientation": "horizontal",
            "readout": true,
            "readout_format": ".2f",
            "step": 0.1,
            "style": "IPY_MODEL_b947a27bc3584cd48c19302e9c6b4b5e",
            "value": 2.1
          }
        },
        "f018d82318294a078dcc1fca1c3ede08": {
          "model_module": "@jupyter-widgets/output",
          "model_name": "OutputModel",
          "model_module_version": "1.0.0",
          "state": {
            "_dom_classes": [],
            "_model_module": "@jupyter-widgets/output",
            "_model_module_version": "1.0.0",
            "_model_name": "OutputModel",
            "_view_count": null,
            "_view_module": "@jupyter-widgets/output",
            "_view_module_version": "1.0.0",
            "_view_name": "OutputView",
            "layout": "IPY_MODEL_f398f13c89174064ac1a5a77f6040d58",
            "msg_id": "",
            "outputs": [
              {
                "output_type": "display_data",
                "data": {
                  "text/plain": "(True, 2.1)"
                },
                "metadata": {}
              }
            ]
          }
        },
        "9ce3c86890a141bc86fb1664a9a37c18": {
          "model_module": "@jupyter-widgets/base",
          "model_name": "LayoutModel",
          "model_module_version": "1.2.0",
          "state": {
            "_model_module": "@jupyter-widgets/base",
            "_model_module_version": "1.2.0",
            "_model_name": "LayoutModel",
            "_view_count": null,
            "_view_module": "@jupyter-widgets/base",
            "_view_module_version": "1.2.0",
            "_view_name": "LayoutView",
            "align_content": null,
            "align_items": null,
            "align_self": null,
            "border": null,
            "bottom": null,
            "display": null,
            "flex": null,
            "flex_flow": null,
            "grid_area": null,
            "grid_auto_columns": null,
            "grid_auto_flow": null,
            "grid_auto_rows": null,
            "grid_column": null,
            "grid_gap": null,
            "grid_row": null,
            "grid_template_areas": null,
            "grid_template_columns": null,
            "grid_template_rows": null,
            "height": null,
            "justify_content": null,
            "justify_items": null,
            "left": null,
            "margin": null,
            "max_height": null,
            "max_width": null,
            "min_height": null,
            "min_width": null,
            "object_fit": null,
            "object_position": null,
            "order": null,
            "overflow": null,
            "overflow_x": null,
            "overflow_y": null,
            "padding": null,
            "right": null,
            "top": null,
            "visibility": null,
            "width": null
          }
        },
        "3c99f0061e4243f69be813c341ef4d44": {
          "model_module": "@jupyter-widgets/base",
          "model_name": "LayoutModel",
          "model_module_version": "1.2.0",
          "state": {
            "_model_module": "@jupyter-widgets/base",
            "_model_module_version": "1.2.0",
            "_model_name": "LayoutModel",
            "_view_count": null,
            "_view_module": "@jupyter-widgets/base",
            "_view_module_version": "1.2.0",
            "_view_name": "LayoutView",
            "align_content": null,
            "align_items": null,
            "align_self": null,
            "border": null,
            "bottom": null,
            "display": null,
            "flex": null,
            "flex_flow": null,
            "grid_area": null,
            "grid_auto_columns": null,
            "grid_auto_flow": null,
            "grid_auto_rows": null,
            "grid_column": null,
            "grid_gap": null,
            "grid_row": null,
            "grid_template_areas": null,
            "grid_template_columns": null,
            "grid_template_rows": null,
            "height": null,
            "justify_content": null,
            "justify_items": null,
            "left": null,
            "margin": null,
            "max_height": null,
            "max_width": null,
            "min_height": null,
            "min_width": null,
            "object_fit": null,
            "object_position": null,
            "order": null,
            "overflow": null,
            "overflow_x": null,
            "overflow_y": null,
            "padding": null,
            "right": null,
            "top": null,
            "visibility": null,
            "width": null
          }
        },
        "d01b73056f8a4f08a9b91397e5dac57a": {
          "model_module": "@jupyter-widgets/controls",
          "model_name": "DescriptionStyleModel",
          "model_module_version": "1.5.0",
          "state": {
            "_model_module": "@jupyter-widgets/controls",
            "_model_module_version": "1.5.0",
            "_model_name": "DescriptionStyleModel",
            "_view_count": null,
            "_view_module": "@jupyter-widgets/base",
            "_view_module_version": "1.2.0",
            "_view_name": "StyleView",
            "description_width": ""
          }
        },
        "73f3ec0cf773471e9ad4aa8e03f2387c": {
          "model_module": "@jupyter-widgets/base",
          "model_name": "LayoutModel",
          "model_module_version": "1.2.0",
          "state": {
            "_model_module": "@jupyter-widgets/base",
            "_model_module_version": "1.2.0",
            "_model_name": "LayoutModel",
            "_view_count": null,
            "_view_module": "@jupyter-widgets/base",
            "_view_module_version": "1.2.0",
            "_view_name": "LayoutView",
            "align_content": null,
            "align_items": null,
            "align_self": null,
            "border": null,
            "bottom": null,
            "display": null,
            "flex": null,
            "flex_flow": null,
            "grid_area": null,
            "grid_auto_columns": null,
            "grid_auto_flow": null,
            "grid_auto_rows": null,
            "grid_column": null,
            "grid_gap": null,
            "grid_row": null,
            "grid_template_areas": null,
            "grid_template_columns": null,
            "grid_template_rows": null,
            "height": null,
            "justify_content": null,
            "justify_items": null,
            "left": null,
            "margin": null,
            "max_height": null,
            "max_width": null,
            "min_height": null,
            "min_width": null,
            "object_fit": null,
            "object_position": null,
            "order": null,
            "overflow": null,
            "overflow_x": null,
            "overflow_y": null,
            "padding": null,
            "right": null,
            "top": null,
            "visibility": null,
            "width": null
          }
        },
        "b947a27bc3584cd48c19302e9c6b4b5e": {
          "model_module": "@jupyter-widgets/controls",
          "model_name": "SliderStyleModel",
          "model_module_version": "1.5.0",
          "state": {
            "_model_module": "@jupyter-widgets/controls",
            "_model_module_version": "1.5.0",
            "_model_name": "SliderStyleModel",
            "_view_count": null,
            "_view_module": "@jupyter-widgets/base",
            "_view_module_version": "1.2.0",
            "_view_name": "StyleView",
            "description_width": "",
            "handle_color": null
          }
        },
        "f398f13c89174064ac1a5a77f6040d58": {
          "model_module": "@jupyter-widgets/base",
          "model_name": "LayoutModel",
          "model_module_version": "1.2.0",
          "state": {
            "_model_module": "@jupyter-widgets/base",
            "_model_module_version": "1.2.0",
            "_model_name": "LayoutModel",
            "_view_count": null,
            "_view_module": "@jupyter-widgets/base",
            "_view_module_version": "1.2.0",
            "_view_name": "LayoutView",
            "align_content": null,
            "align_items": null,
            "align_self": null,
            "border": null,
            "bottom": null,
            "display": null,
            "flex": null,
            "flex_flow": null,
            "grid_area": null,
            "grid_auto_columns": null,
            "grid_auto_flow": null,
            "grid_auto_rows": null,
            "grid_column": null,
            "grid_gap": null,
            "grid_row": null,
            "grid_template_areas": null,
            "grid_template_columns": null,
            "grid_template_rows": null,
            "height": null,
            "justify_content": null,
            "justify_items": null,
            "left": null,
            "margin": null,
            "max_height": null,
            "max_width": null,
            "min_height": null,
            "min_width": null,
            "object_fit": null,
            "object_position": null,
            "order": null,
            "overflow": null,
            "overflow_x": null,
            "overflow_y": null,
            "padding": null,
            "right": null,
            "top": null,
            "visibility": null,
            "width": null
          }
        }
      }
    }
  },
  "nbformat": 4,
  "nbformat_minor": 0
}